{
 "cells": [
  {
   "cell_type": "code",
   "execution_count": null,
   "id": "dfaceed0",
   "metadata": {},
   "outputs": [],
   "source": [
    "from medmnist import BreastMNIST,INFO\n",
    "import torch\n",
    "import torch.nn as nn\n",
    "import torch.optim as optim\n",
    "from torch.utils.data import DataLoader, TensorDataset\n",
    "from torchvision import models, transforms\n",
    "from sklearn.metrics import accuracy_score\n",
    "from utils import PreprocessedDataset"
   ]
  },
  {
   "cell_type": "code",
   "execution_count": null,
   "id": "48cdf6cb",
   "metadata": {},
   "outputs": [],
   "source": [
    "#load data and setup hyperparameters\n",
    "train_data = BreastMNIST(split=\"train\", download=True)\n",
    "val_data = BreastMNIST(split=\"val\", download=True)\n",
    "test_data = BreastMNIST(split=\"test\", download=True)\n",
    "\n",
    "batch_size = 64\n",
    "epochs = 5\n",
    "learning_rate = 1e-4"
   ]
  },
  {
   "cell_type": "code",
   "execution_count": null,
   "id": "8d406a4b",
   "metadata": {},
   "outputs": [],
   "source": [
    "#preprocess data\n",
    "X_train = torch.tensor(train_data.imgs, dtype=torch.float32).unsqueeze(1) / 255.0\n",
    "y_train = torch.tensor(train_data.labels, dtype=torch.long).squeeze()\n",
    "\n",
    "X_val = torch.tensor(val_data.imgs, dtype=torch.float32).unsqueeze(1) / 255.0\n",
    "y_val = torch.tensor(val_data.labels, dtype=torch.long).squeeze()\n",
    "\n",
    "X_test = torch.tensor(test_data.imgs, dtype=torch.float32).unsqueeze(1) / 255.0\n",
    "y_test = torch.tensor(test_data.labels, dtype=torch.long).squeeze()\n",
    "\n",
    "# Define transform for resizing & channel expansion\n",
    "preprocess = transforms.Compose([\n",
    "    transforms.Resize((224, 224)),\n",
    "    transforms.Lambda(lambda x: x.repeat(3, 1, 1))  # convert grayscale → RGB\n",
    "])\n",
    "\n",
    "train_dataset = PreprocessedDataset(X_train, y_train, preprocess)\n",
    "val_dataset = PreprocessedDataset(X_val, y_val, preprocess)\n",
    "test_dataset = PreprocessedDataset(X_test, y_test, preprocess)\n",
    "\n",
    "train_loader = DataLoader(train_dataset, batch_size=batch_size, shuffle=True)\n",
    "val_loader = DataLoader(val_dataset, batch_size=batch_size, shuffle=False)\n",
    "test_loader = DataLoader(test_dataset, batch_size=batch_size, shuffle=False)"
   ]
  },
  {
   "cell_type": "code",
   "execution_count": 12,
   "id": "5e9fedeb",
   "metadata": {},
   "outputs": [],
   "source": [
    "#Load RestNet50\n",
    "n_classes = len(INFO[\"breastmnist\"][\"label\"])\n",
    "model = models.resnet50(weights=models.ResNet50_Weights.IMAGENET1K_V2)  # pretrained weights\n",
    "model.fc = nn.Linear(model.fc.in_features, n_classes)  # replace final layer\n",
    "\n",
    "# ------------------------------\n",
    "# 4. Loss & Optimizer\n",
    "# ------------------------------\n",
    "criterion = nn.CrossEntropyLoss()\n",
    "optimizer = optim.Adam(model.parameters(), lr=learning_rate)"
   ]
  },
  {
   "cell_type": "code",
   "execution_count": null,
   "id": "c548cf79",
   "metadata": {},
   "outputs": [
    {
     "name": "stdout",
     "output_type": "stream",
     "text": [
      "Epoch [1/5] - Loss: 0.6031\n",
      "Validation Accuracy: 0.7308\n",
      "Epoch [2/5] - Loss: 0.4410\n",
      "Validation Accuracy: 0.7308\n"
     ]
    }
   ],
   "source": [
    "for epoch in range(epochs):\n",
    "    model.train()\n",
    "    running_loss = 0.0\n",
    "    for images, labels in train_loader:\n",
    "        images, labels = images, labels\n",
    "\n",
    "        optimizer.zero_grad()\n",
    "        outputs = model(images)\n",
    "        loss = criterion(outputs, labels)\n",
    "        loss.backward()\n",
    "        optimizer.step()\n",
    "\n",
    "        running_loss += loss.item()\n",
    "\n",
    "    avg_loss = running_loss / len(train_loader)\n",
    "    print(f\"Epoch [{epoch+1}/{epochs}] - Loss: {avg_loss:.4f}\")\n",
    "\n",
    "    # Validation accuracy\n",
    "    model.eval()\n",
    "    y_true, y_pred = [], []\n",
    "    with torch.no_grad():\n",
    "        for images, labels in val_loader:\n",
    "            images, labels = images, labels\n",
    "            outputs = model(images)\n",
    "            preds = torch.argmax(outputs, dim=1)\n",
    "            y_true.extend(labels.cpu().numpy())\n",
    "            y_pred.extend(preds.cpu().numpy())\n",
    "\n",
    "    acc = accuracy_score(y_true, y_pred)\n",
    "    print(f\"Validation Accuracy: {acc:.4f}\")"
   ]
  }
 ],
 "metadata": {
  "kernelspec": {
   "display_name": ".venv (3.12.1)",
   "language": "python",
   "name": "python3"
  },
  "language_info": {
   "codemirror_mode": {
    "name": "ipython",
    "version": 3
   },
   "file_extension": ".py",
   "mimetype": "text/x-python",
   "name": "python",
   "nbconvert_exporter": "python",
   "pygments_lexer": "ipython3",
   "version": "3.12.1"
  }
 },
 "nbformat": 4,
 "nbformat_minor": 5
}
